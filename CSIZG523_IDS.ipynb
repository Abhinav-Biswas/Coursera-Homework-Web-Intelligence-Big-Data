{
  "nbformat": 4,
  "nbformat_minor": 0,
  "metadata": {
    "colab": {
      "name": "CSIZG523_IDS.ipynb",
      "provenance": [],
      "collapsed_sections": [],
      "mount_file_id": "1EExrL9XGyBfW36sXIRaIDfxUkvbpGvUL",
      "authorship_tag": "ABX9TyPlx6TwknklMtx9CkIIynTO",
      "include_colab_link": true
    },
    "kernelspec": {
      "name": "python3",
      "display_name": "Python 3"
    },
    "language_info": {
      "name": "python"
    }
  },
  "cells": [
    {
      "cell_type": "markdown",
      "metadata": {
        "id": "view-in-github",
        "colab_type": "text"
      },
      "source": [
        "<a href=\"https://colab.research.google.com/github/Abhinav-Biswas/Coursera-Homework-Web-Intelligence-Big-Data/blob/master/CSIZG523_IDS.ipynb\" target=\"_parent\"><img src=\"https://colab.research.google.com/assets/colab-badge.svg\" alt=\"Open In Colab\"/></a>"
      ]
    },
    {
      "cell_type": "markdown",
      "metadata": {
        "id": "KNhJFHGdnz3i"
      },
      "source": [
        "## **Name: Abhinav Biswas**\n",
        "## **BITS ID: 2020HT66014**\n",
        "## **Course No: CSIZG523 Introduction to Data Science**\n",
        "**EC-1 Experiential Learning Assignment: Using Iris Species Dataset in the link https://www.kaggle.com/uciml/iris**\n"
      ]
    },
    {
      "cell_type": "code",
      "metadata": {
        "colab": {
          "base_uri": "https://localhost:8080/",
          "height": 0
        },
        "id": "SL3wUK2dab-i",
        "outputId": "6dbcad72-fa7c-4f26-bfff-ea2a3ceeba69"
      },
      "source": [
        "#  Begining with a check of the software.\n",
        "\n",
        "# The version of python\n",
        "import sys\n",
        "print('Python: {}'.format(sys.version))\n",
        "# scipy\n",
        "import scipy \n",
        "print('scipy: {}'.format(scipy.__version__))\n",
        "# numpy\n",
        "import numpy \n",
        "print('numpy: {}'.format(numpy.__version__))\n",
        "# matplotlib\n",
        "import matplotlib \n",
        "print('matplotlib: {}'.format(matplotlib.__version__))\n",
        "# pandas\n",
        "import pandas \n",
        "print('pandas: {}'.format(pandas.__version__))\n",
        "# scikit-learn\n",
        "import sklearn \n",
        "print('sklearn: {}'.format(sklearn.__version__))"
      ],
      "execution_count": 312,
      "outputs": [
        {
          "output_type": "stream",
          "name": "stdout",
          "text": [
            "Python: 3.7.12 (default, Sep 10 2021, 00:21:48) \n",
            "[GCC 7.5.0]\n",
            "scipy: 1.4.1\n",
            "numpy: 1.19.5\n",
            "matplotlib: 3.2.2\n",
            "pandas: 1.1.5\n",
            "sklearn: 0.22.2.post1\n"
          ]
        }
      ]
    },
    {
      "cell_type": "code",
      "metadata": {
        "id": "bw97FkUqa-Wd"
      },
      "source": [
        "#  Loading the libraries\n",
        "\n",
        "import matplotlib.pyplot as plt\n",
        "import seaborn as sns\n",
        "from pandas.plotting import scatter_matrix\n",
        "from sklearn.model_selection import train_test_split\n",
        "from sklearn.metrics import classification_report\n",
        "from sklearn.metrics import confusion_matrix\n",
        "from sklearn.metrics import accuracy_score\n",
        "from sklearn.linear_model import LogisticRegression\n",
        "from sklearn.tree import DecisionTreeClassifier\n",
        "from sklearn.ensemble import RandomForestClassifier\n",
        "from sklearn.discriminant_analysis import LinearDiscriminantAnalysis\n",
        "from sklearn.svm import SVC\n",
        "from sklearn.metrics import precision_score, recall_score, f1_score\n",
        "from sklearn.model_selection import cross_val_score\n",
        "from sklearn.model_selection import KFold\n",
        "from sklearn.preprocessing import LabelEncoder\n",
        "\n",
        "#  Enable inline plotting from matplotlib\n",
        "%matplotlib inline\n",
        "\n",
        "#  Set some styles for seaborn\n",
        "sns.set(style=\"white\", color_codes=True)"
      ],
      "execution_count": 313,
      "outputs": []
    },
    {
      "cell_type": "code",
      "metadata": {
        "id": "ekkH6-W9bZHI"
      },
      "source": [
        "#  Loading the dataset into a pandas dataframe named 'iris'\n",
        "iris = pandas.read_csv(\"Iris.csv\", index_col=[0])"
      ],
      "execution_count": 314,
      "outputs": []
    },
    {
      "cell_type": "code",
      "metadata": {
        "colab": {
          "base_uri": "https://localhost:8080/",
          "height": 0
        },
        "id": "o7mhsFfdceyb",
        "outputId": "74d5a0e5-628f-490e-9001-d289622c614d"
      },
      "source": [
        "#  Checking the shape of the data.\n",
        "#  Expect it to be 150 rows and 5 columns.\n",
        "print(iris.shape)"
      ],
      "execution_count": 315,
      "outputs": [
        {
          "output_type": "stream",
          "name": "stdout",
          "text": [
            "(150, 5)\n"
          ]
        }
      ]
    },
    {
      "cell_type": "code",
      "metadata": {
        "colab": {
          "base_uri": "https://localhost:8080/",
          "height": 0
        },
        "id": "JWqMkf2lcmHn",
        "outputId": "0a3a76e8-eaa4-48af-cf4b-e9a5c3922a7b"
      },
      "source": [
        "#  Print the first 20 data points -- the head of the dataset\n",
        "print(iris.head(20))"
      ],
      "execution_count": 316,
      "outputs": [
        {
          "output_type": "stream",
          "name": "stdout",
          "text": [
            "    SepalLengthCm  SepalWidthCm  PetalLengthCm  PetalWidthCm      Species\n",
            "Id                                                                       \n",
            "1             5.1           3.5            1.4           0.2  Iris-setosa\n",
            "2             4.9           3.0            1.4           0.2  Iris-setosa\n",
            "3             4.7           3.2            1.3           0.2  Iris-setosa\n",
            "4             4.6           3.1            1.5           0.2  Iris-setosa\n",
            "5             5.0           3.6            1.4           0.2  Iris-setosa\n",
            "6             5.4           3.9            1.7           0.4  Iris-setosa\n",
            "7             4.6           3.4            1.4           0.3  Iris-setosa\n",
            "8             5.0           3.4            1.5           0.2  Iris-setosa\n",
            "9             4.4           2.9            1.4           0.2  Iris-setosa\n",
            "10            4.9           3.1            1.5           0.1  Iris-setosa\n",
            "11            5.4           3.7            1.5           0.2  Iris-setosa\n",
            "12            4.8           3.4            1.6           0.2  Iris-setosa\n",
            "13            4.8           3.0            1.4           0.1  Iris-setosa\n",
            "14            4.3           3.0            1.1           0.1  Iris-setosa\n",
            "15            5.8           4.0            1.2           0.2  Iris-setosa\n",
            "16            5.7           4.4            1.5           0.4  Iris-setosa\n",
            "17            5.4           3.9            1.3           0.4  Iris-setosa\n",
            "18            5.1           3.5            1.4           0.3  Iris-setosa\n",
            "19            5.7           3.8            1.7           0.3  Iris-setosa\n",
            "20            5.1           3.8            1.5           0.3  Iris-setosa\n"
          ]
        }
      ]
    },
    {
      "cell_type": "code",
      "metadata": {
        "colab": {
          "base_uri": "https://localhost:8080/",
          "height": 0
        },
        "id": "fiLBnMeVdzCq",
        "outputId": "85f720a4-e7e1-4a93-c45e-f32fe37c69de"
      },
      "source": [
        "#  Using the groupby method to determine the class distribution\n",
        "print(iris.groupby('Species').size())"
      ],
      "execution_count": 317,
      "outputs": [
        {
          "output_type": "stream",
          "name": "stdout",
          "text": [
            "Species\n",
            "Iris-setosa        50\n",
            "Iris-versicolor    50\n",
            "Iris-virginica     50\n",
            "dtype: int64\n"
          ]
        }
      ]
    },
    {
      "cell_type": "markdown",
      "metadata": {
        "id": "oU5guJdupDbS"
      },
      "source": [
        "# **1. a) Scatter plot for sepal (length and width)**"
      ]
    },
    {
      "cell_type": "code",
      "metadata": {
        "colab": {
          "base_uri": "https://localhost:8080/",
          "height": 341
        },
        "id": "Q6-HPMNJhKAe",
        "outputId": "848ab007-432c-4091-a56f-773503cf5452"
      },
      "source": [
        "#  Using the .plot extension from Pandas dataframes to make a scatterplot of the Iris sepal features.\n",
        "iris.plot(kind=\"scatter\", x=\"SepalLengthCm\", y=\"SepalWidthCm\")"
      ],
      "execution_count": 318,
      "outputs": [
        {
          "output_type": "stream",
          "name": "stderr",
          "text": [
            "*c* argument looks like a single numeric RGB or RGBA sequence, which should be avoided as value-mapping will have precedence in case its length matches with *x* & *y*.  Please use the *color* keyword-argument or provide a 2-D array with a single row if you intend to specify the same RGB or RGBA value for all points.\n"
          ]
        },
        {
          "output_type": "execute_result",
          "data": {
            "text/plain": [
              "<matplotlib.axes._subplots.AxesSubplot at 0x7f76b0737d50>"
            ]
          },
          "metadata": {},
          "execution_count": 318
        },
        {
          "output_type": "display_data",
          "data": {
            "image/png": "[encoded data removed]",
            "text/plain": [
              "<Figure size 432x288 with 1 Axes>"
            ]
          },
          "metadata": {}
        }
      ]
    },
    {
      "cell_type": "markdown",
      "metadata": {
        "id": "cDmsRO-jpRYc"
      },
      "source": [
        "# **1. b) Scatter plot for petal (length and width)**"
      ]
    },
    {
      "cell_type": "code",
      "metadata": {
        "colab": {
          "base_uri": "https://localhost:8080/",
          "height": 339
        },
        "id": "B4Y8EbLfhLUC",
        "outputId": "d476dd45-8848-483b-9ed6-1d3cb93b6d7d"
      },
      "source": [
        "#  Using the .plot extension from Pandas dataframes to make a scatterplot of the Iris petal features.\n",
        "iris.plot(kind=\"scatter\", x=\"PetalLengthCm\", y=\"PetalWidthCm\")"
      ],
      "execution_count": 319,
      "outputs": [
        {
          "output_type": "stream",
          "name": "stderr",
          "text": [
            "*c* argument looks like a single numeric RGB or RGBA sequence, which should be avoided as value-mapping will have precedence in case its length matches with *x* & *y*.  Please use the *color* keyword-argument or provide a 2-D array with a single row if you intend to specify the same RGB or RGBA value for all points.\n"
          ]
        },
        {
          "output_type": "execute_result",
          "data": {
            "text/plain": [
              "<matplotlib.axes._subplots.AxesSubplot at 0x7f76b0db1bd0>"
            ]
          },
          "metadata": {},
          "execution_count": 319
        },
        {
          "output_type": "display_data",
          "data": {
            "image/png": "[encoded data removed]",
            "text/plain": [
              "<Figure size 432x288 with 1 Axes>"
            ]
          },
          "metadata": {}
        }
      ]
    },
    {
      "cell_type": "markdown",
      "metadata": {
        "id": "qhMpw6nKpgf5"
      },
      "source": [
        "**Scatter plot for sepal (length and width) by species**"
      ]
    },
    {
      "cell_type": "code",
      "metadata": {
        "colab": {
          "base_uri": "https://localhost:8080/",
          "height": 436
        },
        "id": "OwHIAnxRiFnE",
        "outputId": "7254a0fe-7ef0-46a3-e25d-7988a5b6efdc"
      },
      "source": [
        "#  Using seaborn's FacetGrid to color the scatterplot by species\n",
        "sns.FacetGrid(iris, hue=\"Species\", size=5) \\\n",
        "   .map(plt.scatter, \"SepalLengthCm\", \"SepalWidthCm\") \\\n",
        "   .add_legend()"
      ],
      "execution_count": 320,
      "outputs": [
        {
          "output_type": "stream",
          "name": "stderr",
          "text": [
            "/usr/local/lib/python3.7/dist-packages/seaborn/axisgrid.py:337: UserWarning: The `size` parameter has been renamed to `height`; please update your code.\n",
            "  warnings.warn(msg, UserWarning)\n"
          ]
        },
        {
          "output_type": "execute_result",
          "data": {
            "text/plain": [
              "<seaborn.axisgrid.FacetGrid at 0x7f76b0551350>"
            ]
          },
          "metadata": {},
          "execution_count": 320
        },
        {
          "output_type": "display_data",
          "data": {
            "image/png": "[encoded data removed]",
            "text/plain": [
              "<Figure size 474.35x360 with 1 Axes>"
            ]
          },
          "metadata": {}
        }
      ]
    },
    {
      "cell_type": "markdown",
      "metadata": {
        "id": "Jyudd521pxtb"
      },
      "source": [
        "**Scatter plot for petal (length and width) by species**"
      ]
    },
    {
      "cell_type": "code",
      "metadata": {
        "colab": {
          "base_uri": "https://localhost:8080/",
          "height": 436
        },
        "id": "Qnc1d-AmjcOe",
        "outputId": "576d1e41-0a7f-477e-eda2-434e7a320590"
      },
      "source": [
        "#  Using seaborn's FacetGrid to color the scatterplot by species\n",
        "sns.FacetGrid(iris, hue=\"Species\", size=5) \\\n",
        "   .map(plt.scatter, \"PetalLengthCm\", \"PetalWidthCm\") \\\n",
        "   .add_legend()"
      ],
      "execution_count": 321,
      "outputs": [
        {
          "output_type": "stream",
          "name": "stderr",
          "text": [
            "/usr/local/lib/python3.7/dist-packages/seaborn/axisgrid.py:337: UserWarning: The `size` parameter has been renamed to `height`; please update your code.\n",
            "  warnings.warn(msg, UserWarning)\n"
          ]
        },
        {
          "output_type": "execute_result",
          "data": {
            "text/plain": [
              "<seaborn.axisgrid.FacetGrid at 0x7f76b04ce450>"
            ]
          },
          "metadata": {},
          "execution_count": 321
        },
        {
          "output_type": "display_data",
          "data": {
            "image/png": "[encoded data removed]",
            "text/plain": [
              "<Figure size 474.35x360 with 1 Axes>"
            ]
          },
          "metadata": {}
        }
      ]
    },
    {
      "cell_type": "markdown",
      "metadata": {
        "id": "sQF1ztuIkSiV"
      },
      "source": [
        "# **2. Preparation for Development of Clssification Models**"
      ]
    },
    {
      "cell_type": "code",
      "metadata": {
        "colab": {
          "base_uri": "https://localhost:8080/",
          "height": 0
        },
        "id": "-LxnvUwiij6Z",
        "outputId": "a11ddfb4-a432-421e-a52b-f166c2d4e8cc"
      },
      "source": [
        "#  Split the data into feature variables, X, and target variable, y\n",
        "#  Feature variables are in the first four columns -- indexes 0,1,2,3\n",
        "#  Target variable is in column 4\n",
        "\n",
        "#  Note the use of upper case X and lower case y.\n",
        "#  As per the convention used to distinguish between matrices, X, \n",
        "#  and vectors, y, as the expression describing the model is AX = y.\n",
        "\n",
        "X = iris[['SepalLengthCm','SepalWidthCm','PetalLengthCm','PetalWidthCm']]\n",
        "y = iris.Species\n",
        "\n",
        "#  Expect X to be 150 rows, 4 columns\n",
        "print (type(X))\n",
        "print ('Dimensions of X: ', X.shape)\n",
        "\n",
        "#  We converted the labels to 0/1 integers in the cell above\n",
        "#  Expect y to be 150 rows, 1 column\n",
        "print (type(y))\n",
        "print ('Dimensions of y: ', y.shape)"
      ],
      "execution_count": 322,
      "outputs": [
        {
          "output_type": "stream",
          "name": "stdout",
          "text": [
            "<class 'pandas.core.frame.DataFrame'>\n",
            "Dimensions of X:  (150, 4)\n",
            "<class 'pandas.core.series.Series'>\n",
            "Dimensions of y:  (150,)\n"
          ]
        }
      ]
    },
    {
      "cell_type": "code",
      "metadata": {
        "colab": {
          "base_uri": "https://localhost:8080/",
          "height": 0
        },
        "id": "HznbjpvIk38Y",
        "outputId": "3b148fce-80a6-49cd-be5b-b39448f83520"
      },
      "source": [
        "#  Split the data into training and test sets\n",
        "#  Test data is 20% of the total number of rows -- 30 rows.\n",
        "\n",
        "X_train, X_test, y_train, y_test = train_test_split(X, y, test_size = 0.2, random_state = 0)\n",
        "    \n",
        "print ('Dimensions of X_train: ', X_train.shape)\n",
        "print ('Dimensions of X_test:  ', X_test.shape)\n",
        "print ('Dimensions of y_train: ', y_train.shape)\n",
        "print ('Dimensions of y_test:  ', y_test.shape)"
      ],
      "execution_count": 323,
      "outputs": [
        {
          "output_type": "stream",
          "name": "stdout",
          "text": [
            "Dimensions of X_train:  (120, 4)\n",
            "Dimensions of X_test:   (30, 4)\n",
            "Dimensions of y_train:  (120,)\n",
            "Dimensions of y_test:   (30,)\n"
          ]
        }
      ]
    },
    {
      "cell_type": "markdown",
      "metadata": {
        "id": "FvF3hxxup1rv"
      },
      "source": [
        "# **2. a) Classification model using Decision Tree**"
      ]
    },
    {
      "cell_type": "code",
      "metadata": {
        "colab": {
          "base_uri": "https://localhost:8080/",
          "height": 0
        },
        "id": "HZ43e7RAmDbf",
        "outputId": "32136fd1-ee93-46a9-c0b6-978ba75a0699"
      },
      "source": [
        "Model_DT = DecisionTreeClassifier(max_leaf_nodes=3)\n",
        "Model_DT.fit(X_train, y_train)\n",
        "\n",
        "y_pred_Model_DT = Model_DT.predict(X_test)\n",
        "\n",
        "# Summary of the predictions made by the classifier\n",
        "print(classification_report(y_test, y_pred_Model_DT))\n",
        "print(confusion_matrix(y_test, y_pred_Model_DT))\n",
        "# Accuracy score\n",
        "accuracy_DT = accuracy_score(y_pred_Model_DT, y_test)\n",
        "print('Accuracy is', accuracy_DT)\n"
      ],
      "execution_count": 324,
      "outputs": [
        {
          "output_type": "stream",
          "name": "stdout",
          "text": [
            "                 precision    recall  f1-score   support\n",
            "\n",
            "    Iris-setosa       1.00      1.00      1.00        11\n",
            "Iris-versicolor       0.93      1.00      0.96        13\n",
            " Iris-virginica       1.00      0.83      0.91         6\n",
            "\n",
            "       accuracy                           0.97        30\n",
            "      macro avg       0.98      0.94      0.96        30\n",
            "   weighted avg       0.97      0.97      0.97        30\n",
            "\n",
            "[[11  0  0]\n",
            " [ 0 13  0]\n",
            " [ 0  1  5]]\n",
            "Accuracy is 0.9666666666666667\n"
          ]
        }
      ]
    },
    {
      "cell_type": "code",
      "metadata": {
        "colab": {
          "base_uri": "https://localhost:8080/",
          "height": 440
        },
        "id": "k8RL3W8TAQtP",
        "outputId": "d1dfcf17-bab7-4ce8-9f25-b87be9012072"
      },
      "source": [
        "# Visualize the trained Decision Tree by export_graphviz() method\n",
        "\n",
        "from sklearn.tree import export_graphviz\n",
        "from sklearn import tree\n",
        "from IPython.display import SVG\n",
        "from graphviz import Source\n",
        "from IPython.display import display\n",
        "\n",
        "graph = Source(tree.export_graphviz(Model_DT ,feature_names = X.columns, class_names = y.unique(), filled = True))\n",
        "display(SVG(graph.pipe(format='svg')))"
      ],
      "execution_count": 325,
      "outputs": [
        {
          "output_type": "display_data",
          "data": {
            "text/plain": [
              "<IPython.core.display.SVG object>"
            ],
            "image/svg+xml": "<svg height=\"314pt\" viewBox=\"0.00 0.00 360.00 314.00\" width=\"360pt\" xmlns=\"http://www.w3.org/2000/svg\" xmlns:xlink=\"http://www.w3.org/1999/xlink\">\n<g class=\"graph\" id=\"graph0\" transform=\"scale(1 1) rotate(0) translate(4 310)\">\n<title>Tree</title>\n<polygon fill=\"#ffffff\" points=\"-4,4 -4,-310 356,-310 356,4 -4,4\" stroke=\"transparent\"/>\n<!-- 0 -->\n<g class=\"node\" id=\"node1\">\n<title>0</title>\n<polygon fill=\"#f7f3fd\" points=\"206,-306 63,-306 63,-223 206,-223 206,-306\" stroke=\"#000000\"/>\n<text fill=\"#000000\" font-family=\"Times,serif\" font-size=\"14.00\" text-anchor=\"middle\" x=\"134.5\" y=\"-290.8\">PetalWidthCm &lt;= 0.8</text>\n<text fill=\"#000000\" font-family=\"Times,serif\" font-size=\"14.00\" text-anchor=\"middle\" x=\"134.5\" y=\"-275.8\">gini = 0.665</text>\n<text fill=\"#000000\" font-family=\"Times,serif\" font-size=\"14.00\" text-anchor=\"middle\" x=\"134.5\" y=\"-260.8\">samples = 120</text>\n<text fill=\"#000000\" font-family=\"Times,serif\" font-size=\"14.00\" text-anchor=\"middle\" x=\"134.5\" y=\"-245.8\">value = [39, 37, 44]</text>\n<text fill=\"#000000\" font-family=\"Times,serif\" font-size=\"14.00\" text-anchor=\"middle\" x=\"134.5\" y=\"-230.8\">class = Iris-virginica</text>\n</g>\n<!-- 1 -->\n<g class=\"node\" id=\"node2\">\n<title>1</title>\n<polygon fill=\"#e58139\" points=\"117,-179.5 0,-179.5 0,-111.5 117,-111.5 117,-179.5\" stroke=\"#000000\"/>\n<text fill=\"#000000\" font-family=\"Times,serif\" font-size=\"14.00\" text-anchor=\"middle\" x=\"58.5\" y=\"-164.3\">gini = 0.0</text>\n<text fill=\"#000000\" font-family=\"Times,serif\" font-size=\"14.00\" text-anchor=\"middle\" x=\"58.5\" y=\"-149.3\">samples = 39</text>\n<text fill=\"#000000\" font-family=\"Times,serif\" font-size=\"14.00\" text-anchor=\"middle\" x=\"58.5\" y=\"-134.3\">value = [39, 0, 0]</text>\n<text fill=\"#000000\" font-family=\"Times,serif\" font-size=\"14.00\" text-anchor=\"middle\" x=\"58.5\" y=\"-119.3\">class = Iris-setosa</text>\n</g>\n<!-- 0&#45;&gt;1 -->\n<g class=\"edge\" id=\"edge1\">\n<title>0-&gt;1</title>\n<path d=\"M107.9189,-222.8796C100.826,-211.7735 93.1479,-199.7513 86.0063,-188.5691\" fill=\"none\" stroke=\"#000000\"/>\n<polygon fill=\"#000000\" points=\"88.7477,-186.3589 80.4154,-179.8149 82.8482,-190.1267 88.7477,-186.3589\" stroke=\"#000000\"/>\n<text fill=\"#000000\" font-family=\"Times,serif\" font-size=\"14.00\" text-anchor=\"middle\" x=\"75.0319\" y=\"-200.5284\">True</text>\n</g>\n<!-- 2 -->\n<g class=\"node\" id=\"node3\">\n<title>2</title>\n<polygon fill=\"#ebe0fb\" points=\"286,-187 135,-187 135,-104 286,-104 286,-187\" stroke=\"#000000\"/>\n<text fill=\"#000000\" font-family=\"Times,serif\" font-size=\"14.00\" text-anchor=\"middle\" x=\"210.5\" y=\"-171.8\">PetalWidthCm &lt;= 1.75</text>\n<text fill=\"#000000\" font-family=\"Times,serif\" font-size=\"14.00\" text-anchor=\"middle\" x=\"210.5\" y=\"-156.8\">gini = 0.496</text>\n<text fill=\"#000000\" font-family=\"Times,serif\" font-size=\"14.00\" text-anchor=\"middle\" x=\"210.5\" y=\"-141.8\">samples = 81</text>\n<text fill=\"#000000\" font-family=\"Times,serif\" font-size=\"14.00\" text-anchor=\"middle\" x=\"210.5\" y=\"-126.8\">value = [0, 37, 44]</text>\n<text fill=\"#000000\" font-family=\"Times,serif\" font-size=\"14.00\" text-anchor=\"middle\" x=\"210.5\" y=\"-111.8\">class = Iris-virginica</text>\n</g>\n<!-- 0&#45;&gt;2 -->\n<g class=\"edge\" id=\"edge2\">\n<title>0-&gt;2</title>\n<path d=\"M161.0811,-222.8796C166.6605,-214.1434 172.6019,-204.8404 178.3595,-195.8253\" fill=\"none\" stroke=\"#000000\"/>\n<polygon fill=\"#000000\" points=\"181.3726,-197.6098 183.8054,-187.2981 175.4731,-193.8421 181.3726,-197.6098\" stroke=\"#000000\"/>\n<text fill=\"#000000\" font-family=\"Times,serif\" font-size=\"14.00\" text-anchor=\"middle\" x=\"189.1889\" y=\"-208.0116\">False</text>\n</g>\n<!-- 3 -->\n<g class=\"node\" id=\"node4\">\n<title>3</title>\n<polygon fill=\"#4fe88f\" points=\"203,-68 66,-68 66,0 203,0 203,-68\" stroke=\"#000000\"/>\n<text fill=\"#000000\" font-family=\"Times,serif\" font-size=\"14.00\" text-anchor=\"middle\" x=\"134.5\" y=\"-52.8\">gini = 0.18</text>\n<text fill=\"#000000\" font-family=\"Times,serif\" font-size=\"14.00\" text-anchor=\"middle\" x=\"134.5\" y=\"-37.8\">samples = 40</text>\n<text fill=\"#000000\" font-family=\"Times,serif\" font-size=\"14.00\" text-anchor=\"middle\" x=\"134.5\" y=\"-22.8\">value = [0, 36, 4]</text>\n<text fill=\"#000000\" font-family=\"Times,serif\" font-size=\"14.00\" text-anchor=\"middle\" x=\"134.5\" y=\"-7.8\">class = Iris-versicolor</text>\n</g>\n<!-- 2&#45;&gt;3 -->\n<g class=\"edge\" id=\"edge3\">\n<title>2-&gt;3</title>\n<path d=\"M182.2004,-103.9815C176.1238,-95.0666 169.6926,-85.6313 163.5868,-76.6734\" fill=\"none\" stroke=\"#000000\"/>\n<polygon fill=\"#000000\" points=\"166.3789,-74.5555 157.8546,-68.2637 160.5948,-78.498 166.3789,-74.5555\" stroke=\"#000000\"/>\n</g>\n<!-- 4 -->\n<g class=\"node\" id=\"node5\">\n<title>4</title>\n<polygon fill=\"#843ee6\" points=\"352,-68 221,-68 221,0 352,0 352,-68\" stroke=\"#000000\"/>\n<text fill=\"#000000\" font-family=\"Times,serif\" font-size=\"14.00\" text-anchor=\"middle\" x=\"286.5\" y=\"-52.8\">gini = 0.048</text>\n<text fill=\"#000000\" font-family=\"Times,serif\" font-size=\"14.00\" text-anchor=\"middle\" x=\"286.5\" y=\"-37.8\">samples = 41</text>\n<text fill=\"#000000\" font-family=\"Times,serif\" font-size=\"14.00\" text-anchor=\"middle\" x=\"286.5\" y=\"-22.8\">value = [0, 1, 40]</text>\n<text fill=\"#000000\" font-family=\"Times,serif\" font-size=\"14.00\" text-anchor=\"middle\" x=\"286.5\" y=\"-7.8\">class = Iris-virginica</text>\n</g>\n<!-- 2&#45;&gt;4 -->\n<g class=\"edge\" id=\"edge4\">\n<title>2-&gt;4</title>\n<path d=\"M238.7996,-103.9815C244.8762,-95.0666 251.3074,-85.6313 257.4132,-76.6734\" fill=\"none\" stroke=\"#000000\"/>\n<polygon fill=\"#000000\" points=\"260.4052,-78.498 263.1454,-68.2637 254.6211,-74.5555 260.4052,-78.498\" stroke=\"#000000\"/>\n</g>\n</g>\n</svg>"
          },
          "metadata": {}
        }
      ]
    },
    {
      "cell_type": "markdown",
      "metadata": {
        "id": "gc2SRHVCmn6x"
      },
      "source": [
        "# **2. b) Classification model using Logistic Regression**"
      ]
    },
    {
      "cell_type": "code",
      "metadata": {
        "colab": {
          "base_uri": "https://localhost:8080/",
          "height": 0
        },
        "id": "eINrihukm0rF",
        "outputId": "4acab958-4908-4fab-b8ee-db8a69291093"
      },
      "source": [
        "Model_LR = LogisticRegression(C=0.1, max_iter=300)\n",
        "Model_LR.fit(X_train, y_train)\n",
        "\n",
        "y_pred_Model_LR = Model_LR.predict(X_test)\n",
        "\n",
        "# Summary of the predictions made by the classifier\n",
        "print(classification_report(y_test, y_pred_Model_LR))\n",
        "print(confusion_matrix(y_test, y_pred_Model_LR))\n",
        "# Accuracy score\n",
        "accuracy_LR = accuracy_score(y_pred_Model_LR, y_test)\n",
        "print('Accuracy is', accuracy_LR)\n"
      ],
      "execution_count": 326,
      "outputs": [
        {
          "output_type": "stream",
          "name": "stdout",
          "text": [
            "                 precision    recall  f1-score   support\n",
            "\n",
            "    Iris-setosa       1.00      1.00      1.00        11\n",
            "Iris-versicolor       1.00      0.85      0.92        13\n",
            " Iris-virginica       0.75      1.00      0.86         6\n",
            "\n",
            "       accuracy                           0.93        30\n",
            "      macro avg       0.92      0.95      0.92        30\n",
            "   weighted avg       0.95      0.93      0.94        30\n",
            "\n",
            "[[11  0  0]\n",
            " [ 0 11  2]\n",
            " [ 0  0  6]]\n",
            "Accuracy is 0.9333333333333333\n"
          ]
        }
      ]
    },
    {
      "cell_type": "markdown",
      "metadata": {
        "id": "UtogHzIPm2gJ"
      },
      "source": [
        "# **2. c) Classification model using Random Forest**"
      ]
    },
    {
      "cell_type": "code",
      "metadata": {
        "colab": {
          "base_uri": "https://localhost:8080/",
          "height": 0
        },
        "id": "4rk7D3UQo-N-",
        "outputId": "e59ed921-5d22-4b4c-b7f4-f04c01c9afa2"
      },
      "source": [
        "Model_RF=RandomForestClassifier(max_depth=1, max_features=0.5, random_state=0)\n",
        "Model_RF.fit(X_train,y_train)\n",
        "\n",
        "y_pred_Model_RF=Model_RF.predict(X_test)\n",
        "\n",
        "# Summary of the predictions made by the classifier\n",
        "print(classification_report(y_test,y_pred_Model_RF))\n",
        "print(confusion_matrix(y_test, y_pred_Model_RF))\n",
        "#Accuracy Score\n",
        "accuracy_RF = accuracy_score(y_pred_Model_RF, y_test)\n",
        "print('Accuracy is', accuracy_RF)"
      ],
      "execution_count": 327,
      "outputs": [
        {
          "output_type": "stream",
          "name": "stdout",
          "text": [
            "                 precision    recall  f1-score   support\n",
            "\n",
            "    Iris-setosa       1.00      1.00      1.00        11\n",
            "Iris-versicolor       1.00      0.92      0.96        13\n",
            " Iris-virginica       0.86      1.00      0.92         6\n",
            "\n",
            "       accuracy                           0.97        30\n",
            "      macro avg       0.95      0.97      0.96        30\n",
            "   weighted avg       0.97      0.97      0.97        30\n",
            "\n",
            "[[11  0  0]\n",
            " [ 0 12  1]\n",
            " [ 0  0  6]]\n",
            "Accuracy is 0.9666666666666667\n"
          ]
        }
      ]
    },
    {
      "cell_type": "markdown",
      "metadata": {
        "id": "L7SVEfyOdI7P"
      },
      "source": [
        "# **3. a) 10-Fold Cross Validation of each Classifier Model**"
      ]
    },
    {
      "cell_type": "code",
      "metadata": {
        "colab": {
          "base_uri": "https://localhost:8080/",
          "height": 0
        },
        "id": "OcAQdZ3Xgc8P",
        "outputId": "1e81152e-2d7f-4e5e-ac1f-67deb46fd4ee"
      },
      "source": [
        "from sklearn.model_selection import cross_val_score\n",
        "from sklearn.model_selection import KFold\n",
        "from sklearn.preprocessing import LabelEncoder\n",
        "\n",
        "le = LabelEncoder()\n",
        "iris.Species = le.fit_transform(iris.Species)\n",
        "le.transform(['Iris-setosa', 'Iris-versicolor', 'Iris-virginica'])\n",
        "\n",
        "kfold = KFold(n_splits=10, shuffle=True)\n",
        "print(\"Accuracy_DT: {}\".format(cross_val_score(Model_DT, iris, iris.Species, cv=kfold)))\n",
        "print(\"Accuracy_LR : {}\".format(cross_val_score(Model_LR, iris, iris.Species, cv=kfold)))\n",
        "print(\"Accuracy_RF : {}\".format(cross_val_score(Model_RF, iris, iris.Species, cv=kfold)))"
      ],
      "execution_count": 328,
      "outputs": [
        {
          "output_type": "stream",
          "name": "stdout",
          "text": [
            "Accuracy_DT: [1. 1. 1. 1. 1. 1. 1. 1. 1. 1.]\n",
            "Accuracy_LR : [1. 1. 1. 1. 1. 1. 1. 1. 1. 1.]\n",
            "Accuracy_RF : [1. 1. 1. 1. 1. 1. 1. 1. 1. 1.]\n"
          ]
        }
      ]
    },
    {
      "cell_type": "code",
      "metadata": {
        "colab": {
          "base_uri": "https://localhost:8080/",
          "height": 386
        },
        "id": "P0YHPv9Or7w-",
        "outputId": "852430b0-a2a8-4306-f074-6c0c0c3a1bd0"
      },
      "source": [
        "# Comparing the prediction result with ground truth\n",
        "fig = plt.figure(figsize=(15,20))\n",
        "\n",
        "def run_model(model, alg_name, plot_index):\n",
        "    color_code = {'Iris-virginica':'red', 'Iris-setosa':'blue', 'Iris-versicolor':'green'}\n",
        "\n",
        "    # plt.figure(plot_index)\n",
        "    ax = fig.add_subplot(3,3,plot_index) \n",
        "    colors = [color_code[x] for x in y_test]\n",
        "    ax.scatter(X_test.iloc[:,0], X_test.iloc[:,3], color=colors, marker='.', label='Circle = Ground truth')\n",
        "    \n",
        "    \n",
        "    if plot_index == 1:\n",
        "      colors = [color_code[x] for x in y_pred_Model_DT]\n",
        "    elif plot_index == 2:\n",
        "      colors = [color_code[x] for x in y_pred_Model_LR]\n",
        "    else:\n",
        "      colors = [color_code[x] for x in y_pred_Model_RF]    \n",
        "    ax.scatter(X_test.iloc[:, 0], X_test.iloc[:,3], color=colors, marker='o', facecolors='none', label='Dot = Prediction')\n",
        "\n",
        "    #plt.axes([0.65, 0.65, 0.2, 0.2])\n",
        "    ax.legend(loc=\"lower right\")\n",
        "    # manually set legend color to black\n",
        "    leg = plt.gca().get_legend()\n",
        "    leg.legendHandles[0].set_color('black')\n",
        "    leg.legendHandles[1].set_color('black')\n",
        "    leg.legendHandles[1].set_facecolors('none')\n",
        "    ax.set_title(alg_name)\n",
        "\n",
        "run_model(Model_DT, \"Decision Tree\", 1)\n",
        "run_model(Model_LR, \"Logistic Regression\", 2)\n",
        "run_model(Model_RF, \"Random Forest\", 3)\n"
      ],
      "execution_count": 329,
      "outputs": [
        {
          "output_type": "display_data",
          "data": {
            "image/png": "[encoded data removed]",
            "text/plain": [
              "<Figure size 1080x1440 with 3 Axes>"
            ]
          },
          "metadata": {}
        }
      ]
    },
    {
      "cell_type": "markdown",
      "metadata": {
        "id": "mDXSpi5troj_"
      },
      "source": [
        "# **3. b) Precision, Recall and F1-Score for each classifier**"
      ]
    },
    {
      "cell_type": "code",
      "metadata": {
        "colab": {
          "base_uri": "https://localhost:8080/",
          "height": 173
        },
        "id": "Bg4PFiEGDbGN",
        "outputId": "1d8f8932-e107-464d-9c24-fadcb30bbd80"
      },
      "source": [
        "# initialize list of lists for each classifier\n",
        "data = {'Precision':[precision_score(y_test, y_pred_Model_DT, average='micro'), precision_score(y_test, y_pred_Model_LR, average='micro'), precision_score(y_test, y_pred_Model_RF, average='micro')],\n",
        "        'Recall':[recall_score(y_test, y_pred_Model_DT, average='micro'), recall_score(y_test, y_pred_Model_LR, average='micro'), recall_score(y_test, y_pred_Model_RF, average='micro')],\n",
        "        'F1-Score':[f1_score(y_test, y_pred_Model_DT, average='micro'), f1_score(y_test, y_pred_Model_LR, average='micro'), f1_score(y_test, y_pred_Model_RF, average='micro')]}\n",
        "\n",
        "# Creates pandas DataFrame.\n",
        "df = pandas.DataFrame(data, index =['Decision Tree', 'Logistic Regression', 'Random Forest'])\n",
        "\n",
        "# Print DataFrame \n",
        "df.index.name = 'Classifier'\n",
        "display(df)"
      ],
      "execution_count": 330,
      "outputs": [
        {
          "output_type": "display_data",
          "data": {
            "text/html": [
              "<div>\n",
              "<style scoped>\n",
              "    .dataframe tbody tr th:only-of-type {\n",
              "        vertical-align: middle;\n",
              "    }\n",
              "\n",
              "    .dataframe tbody tr th {\n",
              "        vertical-align: top;\n",
              "    }\n",
              "\n",
              "    .dataframe thead th {\n",
              "        text-align: right;\n",
              "    }\n",
              "</style>\n",
              "<table border=\"1\" class=\"dataframe\">\n",
              "  <thead>\n",
              "    <tr style=\"text-align: right;\">\n",
              "      <th></th>\n",
              "      <th>Precision</th>\n",
              "      <th>Recall</th>\n",
              "      <th>F1-Score</th>\n",
              "    </tr>\n",
              "    <tr>\n",
              "      <th>Classifier</th>\n",
              "      <th></th>\n",
              "      <th></th>\n",
              "      <th></th>\n",
              "    </tr>\n",
              "  </thead>\n",
              "  <tbody>\n",
              "    <tr>\n",
              "      <th>Decision Tree</th>\n",
              "      <td>0.966667</td>\n",
              "      <td>0.966667</td>\n",
              "      <td>0.966667</td>\n",
              "    </tr>\n",
              "    <tr>\n",
              "      <th>Logistic Regression</th>\n",
              "      <td>0.933333</td>\n",
              "      <td>0.933333</td>\n",
              "      <td>0.933333</td>\n",
              "    </tr>\n",
              "    <tr>\n",
              "      <th>Random Forest</th>\n",
              "      <td>0.966667</td>\n",
              "      <td>0.966667</td>\n",
              "      <td>0.966667</td>\n",
              "    </tr>\n",
              "  </tbody>\n",
              "</table>\n",
              "</div>"
            ],
            "text/plain": [
              "                     Precision    Recall  F1-Score\n",
              "Classifier                                        \n",
              "Decision Tree         0.966667  0.966667  0.966667\n",
              "Logistic Regression   0.933333  0.933333  0.933333\n",
              "Random Forest         0.966667  0.966667  0.966667"
            ]
          },
          "metadata": {}
        }
      ]
    }
  ]
}